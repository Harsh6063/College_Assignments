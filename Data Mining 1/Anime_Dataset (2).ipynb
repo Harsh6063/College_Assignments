{
 "cells": [
  {
   "cell_type": "markdown",
   "id": "94b23648-8e7e-4bcb-8b98-e958b0ee1480",
   "metadata": {},
   "source": [
    "### Anime (Japanese: アニメ, IPA: [aꜜɲime] ⓘ) \n",
    "is hand-drawn and computer-generated animation originating from Japan. Outside Japan and in English,anime refers \n",
    "specifically to animation produced in Japan.[1] However, in Japan and Japanese, anime (a term derived from a shortening of the English (word animation) \n",
    "describes all animated works, regardless of style or origin. Many works of animation with a similar style to Japanese animation are also produced \n",
    "outside Japan. Video games sometimes also feature themes and art styles that can be considered as anime."
   ]
  },
  {
   "cell_type": "code",
   "execution_count": 2,
   "id": "32fb5942-8504-4851-8233-0fbe1790a52d",
   "metadata": {},
   "outputs": [],
   "source": [
    "#Importing the Nessessary Libraries\n",
    "import pandas as pd\n",
    "import numpy as np\n",
    "import matplotlib.pyplot as plt\n",
    "import seaborn as sns"
   ]
  },
  {
   "cell_type": "code",
   "execution_count": 3,
   "id": "23ea41b6-6916-415e-ae52-a706a55e7fef",
   "metadata": {},
   "outputs": [
    {
     "data": {
      "text/html": [
       "<div>\n",
       "<style scoped>\n",
       "    .dataframe tbody tr th:only-of-type {\n",
       "        vertical-align: middle;\n",
       "    }\n",
       "\n",
       "    .dataframe tbody tr th {\n",
       "        vertical-align: top;\n",
       "    }\n",
       "\n",
       "    .dataframe thead th {\n",
       "        text-align: right;\n",
       "    }\n",
       "</style>\n",
       "<table border=\"1\" class=\"dataframe\">\n",
       "  <thead>\n",
       "    <tr style=\"text-align: right;\">\n",
       "      <th></th>\n",
       "      <th>anime_id</th>\n",
       "      <th>name</th>\n",
       "      <th>genre</th>\n",
       "      <th>type</th>\n",
       "      <th>episodes</th>\n",
       "      <th>rating</th>\n",
       "      <th>members</th>\n",
       "    </tr>\n",
       "  </thead>\n",
       "  <tbody>\n",
       "    <tr>\n",
       "      <th>6606</th>\n",
       "      <td>31631</td>\n",
       "      <td>Monster Hunter Stories: Ride On</td>\n",
       "      <td>Fantasy</td>\n",
       "      <td>TV</td>\n",
       "      <td>48</td>\n",
       "      <td>6.03</td>\n",
       "      <td>6848</td>\n",
       "    </tr>\n",
       "    <tr>\n",
       "      <th>543</th>\n",
       "      <td>8516</td>\n",
       "      <td>Baka to Test to Shoukanjuu Ni!</td>\n",
       "      <td>Comedy, Romance, School, Super Power</td>\n",
       "      <td>TV</td>\n",
       "      <td>13</td>\n",
       "      <td>7.98</td>\n",
       "      <td>183722</td>\n",
       "    </tr>\n",
       "    <tr>\n",
       "      <th>10821</th>\n",
       "      <td>25815</td>\n",
       "      <td>Yokohama Bakkure-tai</td>\n",
       "      <td>Action, Comedy, Romance, Shounen</td>\n",
       "      <td>OVA</td>\n",
       "      <td>4</td>\n",
       "      <td>7.50</td>\n",
       "      <td>83</td>\n",
       "    </tr>\n",
       "    <tr>\n",
       "      <th>11832</th>\n",
       "      <td>1702</td>\n",
       "      <td>Yoru ga Kuru!</td>\n",
       "      <td>Demons, Hentai, Horror, Super Power, Supernatural</td>\n",
       "      <td>OVA</td>\n",
       "      <td>4</td>\n",
       "      <td>6.02</td>\n",
       "      <td>1724</td>\n",
       "    </tr>\n",
       "    <tr>\n",
       "      <th>2001</th>\n",
       "      <td>8369</td>\n",
       "      <td>Crayon Shin-chan Movie 18: Chou Jikuu! Arashi ...</td>\n",
       "      <td>Comedy, Ecchi, Kids, School, Shounen, Slice of...</td>\n",
       "      <td>Movie</td>\n",
       "      <td>1</td>\n",
       "      <td>7.38</td>\n",
       "      <td>1139</td>\n",
       "    </tr>\n",
       "  </tbody>\n",
       "</table>\n",
       "</div>"
      ],
      "text/plain": [
       "       anime_id                                               name  \\\n",
       "6606      31631                    Monster Hunter Stories: Ride On   \n",
       "543        8516                     Baka to Test to Shoukanjuu Ni!   \n",
       "10821     25815                               Yokohama Bakkure-tai   \n",
       "11832      1702                                      Yoru ga Kuru!   \n",
       "2001       8369  Crayon Shin-chan Movie 18: Chou Jikuu! Arashi ...   \n",
       "\n",
       "                                                   genre   type episodes  \\\n",
       "6606                                             Fantasy     TV       48   \n",
       "543                 Comedy, Romance, School, Super Power     TV       13   \n",
       "10821                   Action, Comedy, Romance, Shounen    OVA        4   \n",
       "11832  Demons, Hentai, Horror, Super Power, Supernatural    OVA        4   \n",
       "2001   Comedy, Ecchi, Kids, School, Shounen, Slice of...  Movie        1   \n",
       "\n",
       "       rating  members  \n",
       "6606     6.03     6848  \n",
       "543      7.98   183722  \n",
       "10821    7.50       83  \n",
       "11832    6.02     1724  \n",
       "2001     7.38     1139  "
      ]
     },
     "execution_count": 3,
     "metadata": {},
     "output_type": "execute_result"
    }
   ],
   "source": [
    "#Importing The Dataset\n",
    "dataset_anime=pd.read_csv(\"anime.csv\")\n",
    "dataset_anime.sample(5)"
   ]
  },
  {
   "cell_type": "code",
   "execution_count": 4,
   "id": "717425d5-f0c2-4990-919b-86c7fa033ecb",
   "metadata": {},
   "outputs": [
    {
     "name": "stdout",
     "output_type": "stream",
     "text": [
      "Number of Rows and Columns of the Dataframe are:  (12294, 7) Respectively\n"
     ]
    }
   ],
   "source": [
    "#Finding Shape\n",
    "shape =dataset_anime.shape\n",
    "print(\"Number of Rows and Columns of the Dataframe are: \",shape,\"Respectively\")"
   ]
  },
  {
   "cell_type": "code",
   "execution_count": 5,
   "id": "d37fa2ca-91d9-4651-9156-735a96e0e6e8",
   "metadata": {},
   "outputs": [
    {
     "name": "stdout",
     "output_type": "stream",
     "text": [
      "Number of Records in the dataframe are : 12294\n"
     ]
    }
   ],
   "source": [
    "#The number of records in the Dataframe\n",
    "print(\"Number of Records in the dataframe are :\" ,len(dataset_anime))"
   ]
  },
  {
   "cell_type": "code",
   "execution_count": 6,
   "id": "c167d344-6009-43c9-a622-5e0b9f18aec5",
   "metadata": {},
   "outputs": [
    {
     "name": "stdout",
     "output_type": "stream",
     "text": [
      "Number of columns are: 7\n",
      "Names of all columns in the dataset are: ['anime_id', 'name', 'genre', 'type', 'episodes', 'rating', 'members']\n"
     ]
    }
   ],
   "source": [
    "# The Number of columns along with Column Names\n",
    "number_of_columns = len(dataset_anime.columns)\n",
    "column_names = list(dataset_anime.columns.values)\n",
    "print(\"Number of columns are:\", number_of_columns)\n",
    "print(\"Names of all columns in the dataset are:\", column_names)"
   ]
  },
  {
   "cell_type": "code",
   "execution_count": 7,
   "id": "52aa4b6d-78bb-40c9-bcd7-9d2176c0f99b",
   "metadata": {},
   "outputs": [
    {
     "name": "stdout",
     "output_type": "stream",
     "text": [
      "Date types of each Columns are are : anime_id      int64\n",
      "name         object\n",
      "genre        object\n",
      "type         object\n",
      "episodes     object\n",
      "rating      float64\n",
      "members       int64\n",
      "dtype: object\n"
     ]
    }
   ],
   "source": [
    "#Display Data Types of all Columns\n",
    "print(\"Date types of each Columns are are :\",dataset_anime.dtypes)"
   ]
  },
  {
   "cell_type": "markdown",
   "id": "469e2862-b9b1-4ac1-9c69-c566391ff325",
   "metadata": {},
   "source": [
    "#### Here Episodes Are Listed As Object Let's Change It to INT:\n"
   ]
  },
  {
   "cell_type": "code",
   "execution_count": 8,
   "id": "bb537726-0a03-43c4-800d-a7308129ffd4",
   "metadata": {},
   "outputs": [],
   "source": [
    "#dataset_anime=dataset_anime['episodes'].astype(int)"
   ]
  },
  {
   "cell_type": "markdown",
   "id": "4428cb41-2279-4afa-afd9-3d57fa0fb214",
   "metadata": {},
   "source": [
    "#### Upon Running the Above Code We Find That Their Is A 'Unknown' String Value In Our Episodes Column of The Dataset.Let's Change It"
   ]
  },
  {
   "cell_type": "code",
   "execution_count": 9,
   "id": "35ac1441-cbe2-4091-90c0-3c70f88eb927",
   "metadata": {},
   "outputs": [
    {
     "name": "stdout",
     "output_type": "stream",
     "text": [
      "['1' '64' '51' '24' '10' '148' '110' '13' '201' '25' '22' '75' '4' '26'\n",
      " '12' '27' '43' '74' '37' '2' '11' '99' 'Unknown' '39' '101' '47' '50'\n",
      " '62' '33' '112' '23' '3' '94' '6' '8' '14' '7' '40' '15' '203' '77' '291'\n",
      " '120' '102' '96' '38' '79' '175' '103' '70' '153' '45' '5' '21' '63' '52'\n",
      " '28' '145' '36' '69' '60' '178' '114' '35' '61' '34' '109' '20' '9' '49'\n",
      " '366' '97' '48' '78' '358' '155' '104' '113' '54' '167' '161' '42' '142'\n",
      " '31' '373' '220' '46' '195' '17' '1787' '73' '147' '127' '16' '19' '98'\n",
      " '150' '76' '53' '124' '29' '115' '224' '44' '58' '93' '154' '92' '67'\n",
      " '172' '86' '30' '276' '59' '72' '330' '41' '105' '128' '137' '56' '55'\n",
      " '65' '243' '193' '18' '191' '180' '91' '192' '66' '182' '32' '164' '100'\n",
      " '296' '694' '95' '68' '117' '151' '130' '87' '170' '119' '84' '108' '156'\n",
      " '140' '331' '305' '300' '510' '200' '88' '1471' '526' '143' '726' '136'\n",
      " '1818' '237' '1428' '365' '163' '283' '71' '260' '199' '225' '312' '240'\n",
      " '1306' '1565' '773' '1274' '90' '475' '263' '83' '85' '1006' '80' '162'\n",
      " '132' '141' '125']\n"
     ]
    }
   ],
   "source": [
    "print(dataset_anime['episodes'].unique())"
   ]
  },
  {
   "cell_type": "code",
   "execution_count": 10,
   "id": "7660b635-3432-4c93-ba08-00586a9749b5",
   "metadata": {},
   "outputs": [
    {
     "data": {
      "text/html": [
       "<div>\n",
       "<style scoped>\n",
       "    .dataframe tbody tr th:only-of-type {\n",
       "        vertical-align: middle;\n",
       "    }\n",
       "\n",
       "    .dataframe tbody tr th {\n",
       "        vertical-align: top;\n",
       "    }\n",
       "\n",
       "    .dataframe thead th {\n",
       "        text-align: right;\n",
       "    }\n",
       "</style>\n",
       "<table border=\"1\" class=\"dataframe\">\n",
       "  <thead>\n",
       "    <tr style=\"text-align: right;\">\n",
       "      <th></th>\n",
       "      <th>anime_id</th>\n",
       "      <th>name</th>\n",
       "      <th>genre</th>\n",
       "      <th>type</th>\n",
       "      <th>episodes</th>\n",
       "      <th>rating</th>\n",
       "      <th>members</th>\n",
       "    </tr>\n",
       "  </thead>\n",
       "  <tbody>\n",
       "    <tr>\n",
       "      <th>74</th>\n",
       "      <td>21</td>\n",
       "      <td>One Piece</td>\n",
       "      <td>Action, Adventure, Comedy, Drama, Fantasy, Sho...</td>\n",
       "      <td>TV</td>\n",
       "      <td>Unknown</td>\n",
       "      <td>8.58</td>\n",
       "      <td>504862</td>\n",
       "    </tr>\n",
       "    <tr>\n",
       "      <th>252</th>\n",
       "      <td>235</td>\n",
       "      <td>Detective Conan</td>\n",
       "      <td>Adventure, Comedy, Mystery, Police, Shounen</td>\n",
       "      <td>TV</td>\n",
       "      <td>Unknown</td>\n",
       "      <td>8.25</td>\n",
       "      <td>114702</td>\n",
       "    </tr>\n",
       "    <tr>\n",
       "      <th>615</th>\n",
       "      <td>1735</td>\n",
       "      <td>Naruto: Shippuuden</td>\n",
       "      <td>Action, Comedy, Martial Arts, Shounen, Super P...</td>\n",
       "      <td>TV</td>\n",
       "      <td>Unknown</td>\n",
       "      <td>7.94</td>\n",
       "      <td>533578</td>\n",
       "    </tr>\n",
       "    <tr>\n",
       "      <th>991</th>\n",
       "      <td>966</td>\n",
       "      <td>Crayon Shin-chan</td>\n",
       "      <td>Comedy, Ecchi, Kids, School, Shounen, Slice of...</td>\n",
       "      <td>TV</td>\n",
       "      <td>Unknown</td>\n",
       "      <td>7.73</td>\n",
       "      <td>26267</td>\n",
       "    </tr>\n",
       "    <tr>\n",
       "      <th>1021</th>\n",
       "      <td>33157</td>\n",
       "      <td>Tanaka-kun wa Itsumo Kedaruge Specials</td>\n",
       "      <td>Comedy, School, Slice of Life</td>\n",
       "      <td>Special</td>\n",
       "      <td>Unknown</td>\n",
       "      <td>7.72</td>\n",
       "      <td>5400</td>\n",
       "    </tr>\n",
       "    <tr>\n",
       "      <th>...</th>\n",
       "      <td>...</td>\n",
       "      <td>...</td>\n",
       "      <td>...</td>\n",
       "      <td>...</td>\n",
       "      <td>...</td>\n",
       "      <td>...</td>\n",
       "      <td>...</td>\n",
       "    </tr>\n",
       "    <tr>\n",
       "      <th>12265</th>\n",
       "      <td>34361</td>\n",
       "      <td>Kyonyuu Reijou MC Gakuen</td>\n",
       "      <td>Hentai</td>\n",
       "      <td>OVA</td>\n",
       "      <td>Unknown</td>\n",
       "      <td>NaN</td>\n",
       "      <td>205</td>\n",
       "    </tr>\n",
       "    <tr>\n",
       "      <th>12274</th>\n",
       "      <td>34492</td>\n",
       "      <td>Nuki Doki! Tenshi to Akuma no Sakusei Battle -...</td>\n",
       "      <td>Hentai</td>\n",
       "      <td>OVA</td>\n",
       "      <td>Unknown</td>\n",
       "      <td>NaN</td>\n",
       "      <td>392</td>\n",
       "    </tr>\n",
       "    <tr>\n",
       "      <th>12280</th>\n",
       "      <td>34312</td>\n",
       "      <td>Saimin Class</td>\n",
       "      <td>Hentai</td>\n",
       "      <td>OVA</td>\n",
       "      <td>Unknown</td>\n",
       "      <td>NaN</td>\n",
       "      <td>240</td>\n",
       "    </tr>\n",
       "    <tr>\n",
       "      <th>12282</th>\n",
       "      <td>34388</td>\n",
       "      <td>Shikkoku no Shaga The Animation</td>\n",
       "      <td>Hentai</td>\n",
       "      <td>OVA</td>\n",
       "      <td>Unknown</td>\n",
       "      <td>NaN</td>\n",
       "      <td>195</td>\n",
       "    </tr>\n",
       "    <tr>\n",
       "      <th>12285</th>\n",
       "      <td>34399</td>\n",
       "      <td>Taimanin Asagi 3</td>\n",
       "      <td>Demons, Hentai, Supernatural</td>\n",
       "      <td>OVA</td>\n",
       "      <td>Unknown</td>\n",
       "      <td>NaN</td>\n",
       "      <td>485</td>\n",
       "    </tr>\n",
       "  </tbody>\n",
       "</table>\n",
       "<p>340 rows × 7 columns</p>\n",
       "</div>"
      ],
      "text/plain": [
       "       anime_id                                               name  \\\n",
       "74           21                                          One Piece   \n",
       "252         235                                    Detective Conan   \n",
       "615        1735                                 Naruto: Shippuuden   \n",
       "991         966                                   Crayon Shin-chan   \n",
       "1021      33157             Tanaka-kun wa Itsumo Kedaruge Specials   \n",
       "...         ...                                                ...   \n",
       "12265     34361                           Kyonyuu Reijou MC Gakuen   \n",
       "12274     34492  Nuki Doki! Tenshi to Akuma no Sakusei Battle -...   \n",
       "12280     34312                                       Saimin Class   \n",
       "12282     34388                    Shikkoku no Shaga The Animation   \n",
       "12285     34399                                   Taimanin Asagi 3   \n",
       "\n",
       "                                                   genre     type episodes  \\\n",
       "74     Action, Adventure, Comedy, Drama, Fantasy, Sho...       TV  Unknown   \n",
       "252          Adventure, Comedy, Mystery, Police, Shounen       TV  Unknown   \n",
       "615    Action, Comedy, Martial Arts, Shounen, Super P...       TV  Unknown   \n",
       "991    Comedy, Ecchi, Kids, School, Shounen, Slice of...       TV  Unknown   \n",
       "1021                       Comedy, School, Slice of Life  Special  Unknown   \n",
       "...                                                  ...      ...      ...   \n",
       "12265                                             Hentai      OVA  Unknown   \n",
       "12274                                             Hentai      OVA  Unknown   \n",
       "12280                                             Hentai      OVA  Unknown   \n",
       "12282                                             Hentai      OVA  Unknown   \n",
       "12285                       Demons, Hentai, Supernatural      OVA  Unknown   \n",
       "\n",
       "       rating  members  \n",
       "74       8.58   504862  \n",
       "252      8.25   114702  \n",
       "615      7.94   533578  \n",
       "991      7.73    26267  \n",
       "1021     7.72     5400  \n",
       "...       ...      ...  \n",
       "12265     NaN      205  \n",
       "12274     NaN      392  \n",
       "12280     NaN      240  \n",
       "12282     NaN      195  \n",
       "12285     NaN      485  \n",
       "\n",
       "[340 rows x 7 columns]"
      ]
     },
     "execution_count": 10,
     "metadata": {},
     "output_type": "execute_result"
    }
   ],
   "source": [
    "#We See The Uknown Value:\n",
    "dataset_anime[dataset_anime['episodes'].str.contains(\"Unknown\")]"
   ]
  },
  {
   "cell_type": "code",
   "execution_count": 11,
   "id": "dc45fec3-da5c-45d6-9a05-432a788d3590",
   "metadata": {},
   "outputs": [
    {
     "name": "stdout",
     "output_type": "stream",
     "text": [
      "['1' '64' '51' '24' '10' '148' '110' '13' '201' '25' '22' '75' '4' '26'\n",
      " '12' '27' '43' '74' '37' '2' '11' '99' 'Ongoing' '39' '101' '47' '50'\n",
      " '62' '33' '112' '23' '3' '94' '6' '8' '14' '7' '40' '15' '203' '77' '291'\n",
      " '120' '102' '96' '38' '79' '175' '103' '70' '153' '45' '5' '21' '63' '52'\n",
      " '28' '145' '36' '69' '60' '178' '114' '35' '61' '34' '109' '20' '9' '49'\n",
      " '366' '97' '48' '78' '358' '155' '104' '113' '54' '167' '161' '42' '142'\n",
      " '31' '373' '220' '46' '195' '17' '1787' '73' '147' '127' '16' '19' '98'\n",
      " '150' '76' '53' '124' '29' '115' '224' '44' '58' '93' '154' '92' '67'\n",
      " '172' '86' '30' '276' '59' '72' '330' '41' '105' '128' '137' '56' '55'\n",
      " '65' '243' '193' '18' '191' '180' '91' '192' '66' '182' '32' '164' '100'\n",
      " '296' '694' '95' '68' '117' '151' '130' '87' '170' '119' '84' '108' '156'\n",
      " '140' '331' '305' '300' '510' '200' '88' '1471' '526' '143' '726' '136'\n",
      " '1818' '237' '1428' '365' '163' '283' '71' '260' '199' '225' '312' '240'\n",
      " '1306' '1565' '773' '1274' '90' '475' '263' '83' '85' '1006' '80' '162'\n",
      " '132' '141' '125']\n"
     ]
    }
   ],
   "source": [
    "dataset_anime['episodes']=dataset_anime['episodes'].str.replace(\"Unknown\",\"Ongoing\")\n",
    "print(dataset_anime['episodes'].unique())"
   ]
  },
  {
   "cell_type": "code",
   "execution_count": 12,
   "id": "5f3086ec-8089-4158-a789-fbffe7d5bd03",
   "metadata": {},
   "outputs": [],
   "source": [
    "#For Now We Cannot Change the Datset Or We Have To Drop Or Replace 340 Rows Of The Datset"
   ]
  },
  {
   "cell_type": "code",
   "execution_count": 13,
   "id": "7fe18a7a-6709-4486-921e-5256e869b088",
   "metadata": {},
   "outputs": [
    {
     "data": {
      "text/plain": [
       "anime_id      0\n",
       "name          0\n",
       "genre        62\n",
       "type         25\n",
       "episodes      0\n",
       "rating      230\n",
       "members       0\n",
       "dtype: int64"
      ]
     },
     "execution_count": 13,
     "metadata": {},
     "output_type": "execute_result"
    }
   ],
   "source": [
    "#Finding Null Values\n",
    "dataset_anime.isnull().sum()"
   ]
  },
  {
   "cell_type": "code",
   "execution_count": 14,
   "id": "5bec0175-c933-4736-b80a-e07e4003587e",
   "metadata": {},
   "outputs": [],
   "source": [
    "#Replacing The Numeric_columns With Filna \n",
    "dataset_anime_Rating_mean=dataset_anime.rating.mean()\n",
    "dataset_anime['rating']=dataset_anime['rating'].fillna(dataset_anime_Rating_mean)"
   ]
  },
  {
   "cell_type": "code",
   "execution_count": 15,
   "id": "28b81c42-0aca-4ec8-893d-1727a40c46f6",
   "metadata": {},
   "outputs": [
    {
     "data": {
      "text/plain": [
       "anime_id    0\n",
       "name        0\n",
       "genre       0\n",
       "type        0\n",
       "episodes    0\n",
       "rating      0\n",
       "members     0\n",
       "dtype: int64"
      ]
     },
     "execution_count": 15,
     "metadata": {},
     "output_type": "execute_result"
    }
   ],
   "source": [
    "#Replacing The Categorical_Columns With Filna \n",
    "dataset_anime['genre'] = dataset_anime['genre'].fillna(dataset_anime['genre'].mode()[0])\n",
    "dataset_anime['type'] = dataset_anime['type'].fillna(dataset_anime['type'].mode()[0])\n",
    "dataset_anime.isnull().sum()"
   ]
  },
  {
   "cell_type": "code",
   "execution_count": 16,
   "id": "6e8882c0-fade-4637-8f98-fe459a58f906",
   "metadata": {},
   "outputs": [
    {
     "data": {
      "text/plain": [
       "0"
      ]
     },
     "execution_count": 16,
     "metadata": {},
     "output_type": "execute_result"
    }
   ],
   "source": [
    "#Checking For Duplicates\n",
    "dataset_anime.duplicated().sum()"
   ]
  },
  {
   "cell_type": "code",
   "execution_count": 17,
   "id": "92281043-6bb3-4deb-a53a-bf4285f77705",
   "metadata": {},
   "outputs": [
    {
     "data": {
      "image/png": "[encoded data removed]",
      "text/plain": [
       "<Figure size 600x400 with 1 Axes>"
      ]
     },
     "metadata": {},
     "output_type": "display_data"
    }
   ],
   "source": [
    "#Checking Outliers In the Raing Section\n",
    "plt.figure(figsize=(6, 4))\n",
    "dataset_anime.boxplot(column='rating', sym='o')\n",
    "plt.title('Box Plot of Rating in The Dataset')\n",
    "plt.show()"
   ]
  },
  {
   "cell_type": "code",
   "execution_count": 18,
   "id": "4a71a7f0-bddc-4979-904b-c8817aad2db8",
   "metadata": {},
   "outputs": [],
   "source": [
    "#Removing Outliers\n",
    "# Calculate Q1 and Q3\n",
    "Q1 = dataset_anime['rating'].quantile(0.25)\n",
    "Q3 = dataset_anime['rating'].quantile(0.75)\n",
    "\n",
    "# Calculate IQR\n",
    "IQR = Q3 - Q1\n",
    "\n",
    "# Define lower and upper bounds\n",
    "lower_bound = Q1 - 1.5 * IQR\n",
    "upper_bound = Q3 + 1.5 * IQR\n",
    "\n",
    "# Remove outliers\n",
    "filtered_anime_df = dataset_anime[(dataset_anime['rating'] >= lower_bound) & (dataset_anime['rating'] <= upper_bound)]"
   ]
  },
  {
   "cell_type": "code",
   "execution_count": 19,
   "id": "57da7b76-8f82-44ba-a0ee-a02120f8ef17",
   "metadata": {},
   "outputs": [
    {
     "data": {
      "text/plain": [
       "(12044, 7)"
      ]
     },
     "execution_count": 19,
     "metadata": {},
     "output_type": "execute_result"
    }
   ],
   "source": [
    "filtered_anime_df.shape\n",
    "#400 Rows are Removed"
   ]
  },
  {
   "cell_type": "code",
   "execution_count": 20,
   "id": "6646b5dc-898c-4fbb-8aa8-914f138ca596",
   "metadata": {},
   "outputs": [
    {
     "data": {
      "image/png": "[encoded data removed]",
      "text/plain": [
       "<Figure size 600x400 with 1 Axes>"
      ]
     },
     "metadata": {},
     "output_type": "display_data"
    }
   ],
   "source": [
    "#Checking Outliers In the Raing Section\n",
    "plt.figure(figsize=(6, 4))\n",
    "filtered_anime_df.boxplot(column='rating', sym='o')\n",
    "plt.title('Box Plot of Rating in The New Dataset')\n",
    "plt.show()"
   ]
  },
  {
   "cell_type": "markdown",
   "id": "2ef23f00-fc67-44fa-84ed-ad35da9ee6aa",
   "metadata": {},
   "source": [
    "### Now Most  Outliers are Removed"
   ]
  },
  {
   "cell_type": "code",
   "execution_count": 21,
   "id": "cc4b2d35-33ed-4737-9bba-473db8424eed",
   "metadata": {},
   "outputs": [
    {
     "data": {
      "text/plain": [
       "(11716, 7)"
      ]
     },
     "execution_count": 21,
     "metadata": {},
     "output_type": "execute_result"
    }
   ],
   "source": [
    "#let's Make an Updated Dtaframe where Unknown Is Removed From Episodes\n",
    "New_filtered_anime_df=filtered_anime_df[filtered_anime_df.episodes != 'Ongoing']\n",
    "New_filtered_anime_df.shape"
   ]
  },
  {
   "cell_type": "code",
   "execution_count": 22,
   "id": "92d41063-a706-45a3-9d82-a3bd9d288599",
   "metadata": {},
   "outputs": [
    {
     "data": {
      "text/html": [
       "<div>\n",
       "<style scoped>\n",
       "    .dataframe tbody tr th:only-of-type {\n",
       "        vertical-align: middle;\n",
       "    }\n",
       "\n",
       "    .dataframe tbody tr th {\n",
       "        vertical-align: top;\n",
       "    }\n",
       "\n",
       "    .dataframe thead th {\n",
       "        text-align: right;\n",
       "    }\n",
       "</style>\n",
       "<table border=\"1\" class=\"dataframe\">\n",
       "  <thead>\n",
       "    <tr style=\"text-align: right;\">\n",
       "      <th></th>\n",
       "      <th>anime_id</th>\n",
       "      <th>rating</th>\n",
       "      <th>members</th>\n",
       "    </tr>\n",
       "  </thead>\n",
       "  <tbody>\n",
       "    <tr>\n",
       "      <th>count</th>\n",
       "      <td>11716.000000</td>\n",
       "      <td>11716.000000</td>\n",
       "      <td>1.171600e+04</td>\n",
       "    </tr>\n",
       "    <tr>\n",
       "      <th>mean</th>\n",
       "      <td>13356.045152</td>\n",
       "      <td>6.533548</td>\n",
       "      <td>1.849460e+04</td>\n",
       "    </tr>\n",
       "    <tr>\n",
       "      <th>std</th>\n",
       "      <td>11127.648413</td>\n",
       "      <td>0.935961</td>\n",
       "      <td>5.462255e+04</td>\n",
       "    </tr>\n",
       "    <tr>\n",
       "      <th>min</th>\n",
       "      <td>1.000000</td>\n",
       "      <td>4.000000</td>\n",
       "      <td>5.000000e+00</td>\n",
       "    </tr>\n",
       "    <tr>\n",
       "      <th>25%</th>\n",
       "      <td>3297.750000</td>\n",
       "      <td>5.940000</td>\n",
       "      <td>2.500000e+02</td>\n",
       "    </tr>\n",
       "    <tr>\n",
       "      <th>50%</th>\n",
       "      <td>9749.500000</td>\n",
       "      <td>6.580000</td>\n",
       "      <td>1.664500e+03</td>\n",
       "    </tr>\n",
       "    <tr>\n",
       "      <th>75%</th>\n",
       "      <td>23277.500000</td>\n",
       "      <td>7.190000</td>\n",
       "      <td>1.012400e+04</td>\n",
       "    </tr>\n",
       "    <tr>\n",
       "      <th>max</th>\n",
       "      <td>34527.000000</td>\n",
       "      <td>9.060000</td>\n",
       "      <td>1.013917e+06</td>\n",
       "    </tr>\n",
       "  </tbody>\n",
       "</table>\n",
       "</div>"
      ],
      "text/plain": [
       "           anime_id        rating       members\n",
       "count  11716.000000  11716.000000  1.171600e+04\n",
       "mean   13356.045152      6.533548  1.849460e+04\n",
       "std    11127.648413      0.935961  5.462255e+04\n",
       "min        1.000000      4.000000  5.000000e+00\n",
       "25%     3297.750000      5.940000  2.500000e+02\n",
       "50%     9749.500000      6.580000  1.664500e+03\n",
       "75%    23277.500000      7.190000  1.012400e+04\n",
       "max    34527.000000      9.060000  1.013917e+06"
      ]
     },
     "execution_count": 22,
     "metadata": {},
     "output_type": "execute_result"
    }
   ],
   "source": [
    "New_filtered_anime_df.describe()"
   ]
  },
  {
   "cell_type": "code",
   "execution_count": 23,
   "id": "4885d85a-c182-4d15-8dc5-a0a5a00d9e22",
   "metadata": {},
   "outputs": [
    {
     "name": "stderr",
     "output_type": "stream",
     "text": [
      "C:\\Users\\Harsh\\AppData\\Local\\Temp\\ipykernel_8844\\151905711.py:2: SettingWithCopyWarning: \n",
      "A value is trying to be set on a copy of a slice from a DataFrame.\n",
      "Try using .loc[row_indexer,col_indexer] = value instead\n",
      "\n",
      "See the caveats in the documentation: https://pandas.pydata.org/pandas-docs/stable/user_guide/indexing.html#returning-a-view-versus-a-copy\n",
      "  New_filtered_anime_df['anime_id']=New_filtered_anime_df['anime_id'].astype(str)\n"
     ]
    }
   ],
   "source": [
    "#Here Anime_Id Is Not Providing Any Knowlege To let's Change It to Categotical\n",
    "New_filtered_anime_df['anime_id']=New_filtered_anime_df['anime_id'].astype(str)"
   ]
  },
  {
   "cell_type": "code",
   "execution_count": 24,
   "id": "b017f9da-d292-4652-bbab-afb40804245d",
   "metadata": {},
   "outputs": [
    {
     "data": {
      "text/html": [
       "<div>\n",
       "<style scoped>\n",
       "    .dataframe tbody tr th:only-of-type {\n",
       "        vertical-align: middle;\n",
       "    }\n",
       "\n",
       "    .dataframe tbody tr th {\n",
       "        vertical-align: top;\n",
       "    }\n",
       "\n",
       "    .dataframe thead th {\n",
       "        text-align: right;\n",
       "    }\n",
       "</style>\n",
       "<table border=\"1\" class=\"dataframe\">\n",
       "  <thead>\n",
       "    <tr style=\"text-align: right;\">\n",
       "      <th></th>\n",
       "      <th>rating</th>\n",
       "      <th>members</th>\n",
       "    </tr>\n",
       "  </thead>\n",
       "  <tbody>\n",
       "    <tr>\n",
       "      <th>count</th>\n",
       "      <td>11716.000000</td>\n",
       "      <td>1.171600e+04</td>\n",
       "    </tr>\n",
       "    <tr>\n",
       "      <th>mean</th>\n",
       "      <td>6.533548</td>\n",
       "      <td>1.849460e+04</td>\n",
       "    </tr>\n",
       "    <tr>\n",
       "      <th>std</th>\n",
       "      <td>0.935961</td>\n",
       "      <td>5.462255e+04</td>\n",
       "    </tr>\n",
       "    <tr>\n",
       "      <th>min</th>\n",
       "      <td>4.000000</td>\n",
       "      <td>5.000000e+00</td>\n",
       "    </tr>\n",
       "    <tr>\n",
       "      <th>25%</th>\n",
       "      <td>5.940000</td>\n",
       "      <td>2.500000e+02</td>\n",
       "    </tr>\n",
       "    <tr>\n",
       "      <th>50%</th>\n",
       "      <td>6.580000</td>\n",
       "      <td>1.664500e+03</td>\n",
       "    </tr>\n",
       "    <tr>\n",
       "      <th>75%</th>\n",
       "      <td>7.190000</td>\n",
       "      <td>1.012400e+04</td>\n",
       "    </tr>\n",
       "    <tr>\n",
       "      <th>max</th>\n",
       "      <td>9.060000</td>\n",
       "      <td>1.013917e+06</td>\n",
       "    </tr>\n",
       "  </tbody>\n",
       "</table>\n",
       "</div>"
      ],
      "text/plain": [
       "             rating       members\n",
       "count  11716.000000  1.171600e+04\n",
       "mean       6.533548  1.849460e+04\n",
       "std        0.935961  5.462255e+04\n",
       "min        4.000000  5.000000e+00\n",
       "25%        5.940000  2.500000e+02\n",
       "50%        6.580000  1.664500e+03\n",
       "75%        7.190000  1.012400e+04\n",
       "max        9.060000  1.013917e+06"
      ]
     },
     "execution_count": 24,
     "metadata": {},
     "output_type": "execute_result"
    }
   ],
   "source": [
    "New_filtered_anime_df.describe()"
   ]
  },
  {
   "cell_type": "code",
   "execution_count": 25,
   "id": "cb35d142-11fe-46cc-a032-ef0c45679d7f",
   "metadata": {},
   "outputs": [
    {
     "data": {
      "text/html": [
       "<div>\n",
       "<style scoped>\n",
       "    .dataframe tbody tr th:only-of-type {\n",
       "        vertical-align: middle;\n",
       "    }\n",
       "\n",
       "    .dataframe tbody tr th {\n",
       "        vertical-align: top;\n",
       "    }\n",
       "\n",
       "    .dataframe thead th {\n",
       "        text-align: right;\n",
       "    }\n",
       "</style>\n",
       "<table border=\"1\" class=\"dataframe\">\n",
       "  <thead>\n",
       "    <tr style=\"text-align: right;\">\n",
       "      <th></th>\n",
       "      <th>episodes</th>\n",
       "      <th>rating</th>\n",
       "      <th>members</th>\n",
       "    </tr>\n",
       "  </thead>\n",
       "  <tbody>\n",
       "    <tr>\n",
       "      <th>episodes</th>\n",
       "      <td>1.000000</td>\n",
       "      <td>0.083401</td>\n",
       "      <td>0.052324</td>\n",
       "    </tr>\n",
       "    <tr>\n",
       "      <th>rating</th>\n",
       "      <td>0.083401</td>\n",
       "      <td>1.000000</td>\n",
       "      <td>0.406980</td>\n",
       "    </tr>\n",
       "    <tr>\n",
       "      <th>members</th>\n",
       "      <td>0.052324</td>\n",
       "      <td>0.406980</td>\n",
       "      <td>1.000000</td>\n",
       "    </tr>\n",
       "  </tbody>\n",
       "</table>\n",
       "</div>"
      ],
      "text/plain": [
       "          episodes    rating   members\n",
       "episodes  1.000000  0.083401  0.052324\n",
       "rating    0.083401  1.000000  0.406980\n",
       "members   0.052324  0.406980  1.000000"
      ]
     },
     "execution_count": 25,
     "metadata": {},
     "output_type": "execute_result"
    }
   ],
   "source": [
    "#Finding Correlation\n",
    "New_filtered_anime_df[['episodes','rating','members']].corr()"
   ]
  },
  {
   "cell_type": "code",
   "execution_count": 77,
   "id": "33e33fcc-ef55-4959-9747-9fcde27e9299",
   "metadata": {},
   "outputs": [
    {
     "data": {
      "text/html": [
       "<div>\n",
       "<style scoped>\n",
       "    .dataframe tbody tr th:only-of-type {\n",
       "        vertical-align: middle;\n",
       "    }\n",
       "\n",
       "    .dataframe tbody tr th {\n",
       "        vertical-align: top;\n",
       "    }\n",
       "\n",
       "    .dataframe thead th {\n",
       "        text-align: right;\n",
       "    }\n",
       "</style>\n",
       "<table border=\"1\" class=\"dataframe\">\n",
       "  <thead>\n",
       "    <tr style=\"text-align: right;\">\n",
       "      <th></th>\n",
       "      <th>anime_id</th>\n",
       "      <th>name</th>\n",
       "      <th>genre</th>\n",
       "      <th>type</th>\n",
       "      <th>episodes</th>\n",
       "      <th>rating</th>\n",
       "      <th>members</th>\n",
       "      <th>category</th>\n",
       "    </tr>\n",
       "  </thead>\n",
       "  <tbody>\n",
       "    <tr>\n",
       "      <th>6296</th>\n",
       "      <td>12393</td>\n",
       "      <td>Oyako Club</td>\n",
       "      <td>Comedy, Slice of Life</td>\n",
       "      <td>TV</td>\n",
       "      <td>1818</td>\n",
       "      <td>6.18</td>\n",
       "      <td>160</td>\n",
       "      <td>Average</td>\n",
       "    </tr>\n",
       "    <tr>\n",
       "      <th>929</th>\n",
       "      <td>2471</td>\n",
       "      <td>Doraemon (1979)</td>\n",
       "      <td>Adventure, Comedy, Fantasy, Kids, Sci-Fi, Shounen</td>\n",
       "      <td>TV</td>\n",
       "      <td>1787</td>\n",
       "      <td>7.76</td>\n",
       "      <td>14233</td>\n",
       "      <td>Good</td>\n",
       "    </tr>\n",
       "    <tr>\n",
       "      <th>9243</th>\n",
       "      <td>23349</td>\n",
       "      <td>Kirin Monoshiri Yakata</td>\n",
       "      <td>Kids</td>\n",
       "      <td>TV</td>\n",
       "      <td>1565</td>\n",
       "      <td>5.56</td>\n",
       "      <td>116</td>\n",
       "      <td>Average</td>\n",
       "    </tr>\n",
       "    <tr>\n",
       "      <th>5360</th>\n",
       "      <td>6277</td>\n",
       "      <td>Manga Nippon Mukashibanashi (1976)</td>\n",
       "      <td>Fantasy, Historical</td>\n",
       "      <td>TV</td>\n",
       "      <td>1471</td>\n",
       "      <td>6.48</td>\n",
       "      <td>406</td>\n",
       "      <td>Average</td>\n",
       "    </tr>\n",
       "    <tr>\n",
       "      <th>6580</th>\n",
       "      <td>8213</td>\n",
       "      <td>Hoka Hoka Kazoku</td>\n",
       "      <td>Comedy</td>\n",
       "      <td>TV</td>\n",
       "      <td>1428</td>\n",
       "      <td>6.05</td>\n",
       "      <td>194</td>\n",
       "      <td>Average</td>\n",
       "    </tr>\n",
       "    <tr>\n",
       "      <th>9242</th>\n",
       "      <td>32448</td>\n",
       "      <td>Kirin Ashita no Calendar</td>\n",
       "      <td>Historical, Kids</td>\n",
       "      <td>TV</td>\n",
       "      <td>1306</td>\n",
       "      <td>6.43</td>\n",
       "      <td>59</td>\n",
       "      <td>Average</td>\n",
       "    </tr>\n",
       "    <tr>\n",
       "      <th>9613</th>\n",
       "      <td>22221</td>\n",
       "      <td>Monoshiri Daigaku: Ashita no Calendar</td>\n",
       "      <td>Historical</td>\n",
       "      <td>TV</td>\n",
       "      <td>1274</td>\n",
       "      <td>6.80</td>\n",
       "      <td>112</td>\n",
       "      <td>Average</td>\n",
       "    </tr>\n",
       "    <tr>\n",
       "      <th>10165</th>\n",
       "      <td>10241</td>\n",
       "      <td>Sekai Monoshiri Ryoko</td>\n",
       "      <td>Comedy</td>\n",
       "      <td>TV</td>\n",
       "      <td>1006</td>\n",
       "      <td>5.92</td>\n",
       "      <td>153</td>\n",
       "      <td>Average</td>\n",
       "    </tr>\n",
       "    <tr>\n",
       "      <th>9317</th>\n",
       "      <td>20117</td>\n",
       "      <td>Kotowaza House</td>\n",
       "      <td>Comedy, Slice of Life</td>\n",
       "      <td>TV</td>\n",
       "      <td>773</td>\n",
       "      <td>5.63</td>\n",
       "      <td>110</td>\n",
       "      <td>Average</td>\n",
       "    </tr>\n",
       "    <tr>\n",
       "      <th>6118</th>\n",
       "      <td>9768</td>\n",
       "      <td>Shima Shima Tora no Shimajirou</td>\n",
       "      <td>Adventure, Comedy, Fantasy, Kids, Magic</td>\n",
       "      <td>TV</td>\n",
       "      <td>726</td>\n",
       "      <td>6.25</td>\n",
       "      <td>237</td>\n",
       "      <td>Average</td>\n",
       "    </tr>\n",
       "  </tbody>\n",
       "</table>\n",
       "</div>"
      ],
      "text/plain": [
       "      anime_id                                   name  \\\n",
       "6296     12393                             Oyako Club   \n",
       "929       2471                        Doraemon (1979)   \n",
       "9243     23349                 Kirin Monoshiri Yakata   \n",
       "5360      6277     Manga Nippon Mukashibanashi (1976)   \n",
       "6580      8213                       Hoka Hoka Kazoku   \n",
       "9242     32448               Kirin Ashita no Calendar   \n",
       "9613     22221  Monoshiri Daigaku: Ashita no Calendar   \n",
       "10165    10241                  Sekai Monoshiri Ryoko   \n",
       "9317     20117                         Kotowaza House   \n",
       "6118      9768         Shima Shima Tora no Shimajirou   \n",
       "\n",
       "                                                   genre type  episodes  \\\n",
       "6296                               Comedy, Slice of Life   TV      1818   \n",
       "929    Adventure, Comedy, Fantasy, Kids, Sci-Fi, Shounen   TV      1787   \n",
       "9243                                                Kids   TV      1565   \n",
       "5360                                 Fantasy, Historical   TV      1471   \n",
       "6580                                              Comedy   TV      1428   \n",
       "9242                                    Historical, Kids   TV      1306   \n",
       "9613                                          Historical   TV      1274   \n",
       "10165                                             Comedy   TV      1006   \n",
       "9317                               Comedy, Slice of Life   TV       773   \n",
       "6118             Adventure, Comedy, Fantasy, Kids, Magic   TV       726   \n",
       "\n",
       "       rating  members category  \n",
       "6296     6.18      160  Average  \n",
       "929      7.76    14233     Good  \n",
       "9243     5.56      116  Average  \n",
       "5360     6.48      406  Average  \n",
       "6580     6.05      194  Average  \n",
       "9242     6.43       59  Average  \n",
       "9613     6.80      112  Average  \n",
       "10165    5.92      153  Average  \n",
       "9317     5.63      110  Average  \n",
       "6118     6.25      237  Average  "
      ]
     },
     "execution_count": 77,
     "metadata": {},
     "output_type": "execute_result"
    }
   ],
   "source": [
    "#sorting Datset by Episodes\n",
    "New_filtered_anime_df_sort_episodes=New_filtered_anime_df.sort_values(by='episodes',ascending=False)\n",
    "New_filtered_anime_df_sort_episodes.head(10)"
   ]
  },
  {
   "cell_type": "code",
   "execution_count": 78,
   "id": "05008f12-4416-4457-96fd-0f7fb88b8c2b",
   "metadata": {},
   "outputs": [
    {
     "name": "stderr",
     "output_type": "stream",
     "text": [
      "C:\\Users\\Harsh\\AppData\\Local\\Temp\\ipykernel_8844\\928705045.py:2: FutureWarning: \n",
      "\n",
      "Passing `palette` without assigning `hue` is deprecated and will be removed in v0.14.0. Assign the `y` variable to `hue` and set `legend=False` for the same effect.\n",
      "\n",
      "  sns.barplot(x='episodes',y='name',palette='Set1',data=New_filtered_anime_df_sort_episodes.head(10),orient='h')\n"
     ]
    },
    {
     "data": {
      "image/png": "[encoded data removed]",
      "text/plain": [
       "<Figure size 640x480 with 1 Axes>"
      ]
     },
     "metadata": {},
     "output_type": "display_data"
    }
   ],
   "source": [
    "#Let's Find Anime Names With Most Number of Episodes\n",
    "sns.barplot(x='episodes',y='name',palette='Set1',data=New_filtered_anime_df_sort_episodes.head(10),orient='h')\n",
    "plt.xlabel('Number of Episodes')\n",
    "plt.ylabel(None)\n",
    "plt.title(\"Anime With Most Number of Episodes\")\n",
    "plt.show()"
   ]
  },
  {
   "cell_type": "code",
   "execution_count": 28,
   "id": "c8c4a1c7-a738-4260-ab17-554cb01ee3b9",
   "metadata": {},
   "outputs": [
    {
     "data": {
      "text/html": [
       "<div>\n",
       "<style scoped>\n",
       "    .dataframe tbody tr th:only-of-type {\n",
       "        vertical-align: middle;\n",
       "    }\n",
       "\n",
       "    .dataframe tbody tr th {\n",
       "        vertical-align: top;\n",
       "    }\n",
       "\n",
       "    .dataframe thead th {\n",
       "        text-align: right;\n",
       "    }\n",
       "</style>\n",
       "<table border=\"1\" class=\"dataframe\">\n",
       "  <thead>\n",
       "    <tr style=\"text-align: right;\">\n",
       "      <th></th>\n",
       "      <th>anime_id</th>\n",
       "      <th>name</th>\n",
       "      <th>genre</th>\n",
       "      <th>type</th>\n",
       "      <th>episodes</th>\n",
       "      <th>rating</th>\n",
       "      <th>members</th>\n",
       "    </tr>\n",
       "  </thead>\n",
       "  <tbody>\n",
       "    <tr>\n",
       "      <th>10</th>\n",
       "      <td>4181</td>\n",
       "      <td>Clannad: After Story</td>\n",
       "      <td>Drama, Fantasy, Romance, Slice of Life, Supern...</td>\n",
       "      <td>TV</td>\n",
       "      <td>24</td>\n",
       "      <td>9.06</td>\n",
       "      <td>456749</td>\n",
       "    </tr>\n",
       "    <tr>\n",
       "      <th>11</th>\n",
       "      <td>28851</td>\n",
       "      <td>Koe no Katachi</td>\n",
       "      <td>Drama, School, Shounen</td>\n",
       "      <td>Movie</td>\n",
       "      <td>1</td>\n",
       "      <td>9.05</td>\n",
       "      <td>102733</td>\n",
       "    </tr>\n",
       "    <tr>\n",
       "      <th>12</th>\n",
       "      <td>918</td>\n",
       "      <td>Gintama</td>\n",
       "      <td>Action, Comedy, Historical, Parody, Samurai, S...</td>\n",
       "      <td>TV</td>\n",
       "      <td>201</td>\n",
       "      <td>9.04</td>\n",
       "      <td>336376</td>\n",
       "    </tr>\n",
       "    <tr>\n",
       "      <th>10181</th>\n",
       "      <td>32627</td>\n",
       "      <td>Shaka no Shougai</td>\n",
       "      <td>Historical</td>\n",
       "      <td>Movie</td>\n",
       "      <td>1</td>\n",
       "      <td>9.00</td>\n",
       "      <td>31</td>\n",
       "    </tr>\n",
       "    <tr>\n",
       "      <th>10136</th>\n",
       "      <td>34191</td>\n",
       "      <td>Santa-san wa Dai Isogashi</td>\n",
       "      <td>Fantasy, Kids</td>\n",
       "      <td>OVA</td>\n",
       "      <td>1</td>\n",
       "      <td>9.00</td>\n",
       "      <td>25</td>\n",
       "    </tr>\n",
       "    <tr>\n",
       "      <th>9831</th>\n",
       "      <td>26145</td>\n",
       "      <td>Okaachan Gomen ne</td>\n",
       "      <td>Historical, Kids</td>\n",
       "      <td>Movie</td>\n",
       "      <td>1</td>\n",
       "      <td>9.00</td>\n",
       "      <td>47</td>\n",
       "    </tr>\n",
       "    <tr>\n",
       "      <th>9577</th>\n",
       "      <td>33980</td>\n",
       "      <td>Mirai ni Mukete: Bousai wo Kangaeru</td>\n",
       "      <td>Drama</td>\n",
       "      <td>Movie</td>\n",
       "      <td>1</td>\n",
       "      <td>9.00</td>\n",
       "      <td>77</td>\n",
       "    </tr>\n",
       "    <tr>\n",
       "      <th>9539</th>\n",
       "      <td>26259</td>\n",
       "      <td>Mienu Me ni Kanjita Kumotoriyama no Asahi</td>\n",
       "      <td>Drama, Kids</td>\n",
       "      <td>OVA</td>\n",
       "      <td>1</td>\n",
       "      <td>9.00</td>\n",
       "      <td>47</td>\n",
       "    </tr>\n",
       "    <tr>\n",
       "      <th>10191</th>\n",
       "      <td>32796</td>\n",
       "      <td>Shenmi Shijie Lixian Ji</td>\n",
       "      <td>Adventure, Comedy, Fantasy</td>\n",
       "      <td>Movie</td>\n",
       "      <td>1</td>\n",
       "      <td>9.00</td>\n",
       "      <td>37</td>\n",
       "    </tr>\n",
       "    <tr>\n",
       "      <th>13</th>\n",
       "      <td>2904</td>\n",
       "      <td>Code Geass: Hangyaku no Lelouch R2</td>\n",
       "      <td>Action, Drama, Mecha, Military, Sci-Fi, Super ...</td>\n",
       "      <td>TV</td>\n",
       "      <td>25</td>\n",
       "      <td>8.98</td>\n",
       "      <td>572888</td>\n",
       "    </tr>\n",
       "  </tbody>\n",
       "</table>\n",
       "</div>"
      ],
      "text/plain": [
       "      anime_id                                       name  \\\n",
       "10        4181                       Clannad: After Story   \n",
       "11       28851                             Koe no Katachi   \n",
       "12         918                                    Gintama   \n",
       "10181    32627                           Shaka no Shougai   \n",
       "10136    34191                  Santa-san wa Dai Isogashi   \n",
       "9831     26145                          Okaachan Gomen ne   \n",
       "9577     33980        Mirai ni Mukete: Bousai wo Kangaeru   \n",
       "9539     26259  Mienu Me ni Kanjita Kumotoriyama no Asahi   \n",
       "10191    32796                    Shenmi Shijie Lixian Ji   \n",
       "13        2904         Code Geass: Hangyaku no Lelouch R2   \n",
       "\n",
       "                                                   genre   type episodes  \\\n",
       "10     Drama, Fantasy, Romance, Slice of Life, Supern...     TV       24   \n",
       "11                                Drama, School, Shounen  Movie        1   \n",
       "12     Action, Comedy, Historical, Parody, Samurai, S...     TV      201   \n",
       "10181                                         Historical  Movie        1   \n",
       "10136                                      Fantasy, Kids    OVA        1   \n",
       "9831                                    Historical, Kids  Movie        1   \n",
       "9577                                               Drama  Movie        1   \n",
       "9539                                         Drama, Kids    OVA        1   \n",
       "10191                         Adventure, Comedy, Fantasy  Movie        1   \n",
       "13     Action, Drama, Mecha, Military, Sci-Fi, Super ...     TV       25   \n",
       "\n",
       "       rating  members  \n",
       "10       9.06   456749  \n",
       "11       9.05   102733  \n",
       "12       9.04   336376  \n",
       "10181    9.00       31  \n",
       "10136    9.00       25  \n",
       "9831     9.00       47  \n",
       "9577     9.00       77  \n",
       "9539     9.00       47  \n",
       "10191    9.00       37  \n",
       "13       8.98   572888  "
      ]
     },
     "execution_count": 28,
     "metadata": {},
     "output_type": "execute_result"
    }
   ],
   "source": [
    "#sorting Datset by Rating\n",
    "New_filtered_anime_df_sort_rating=New_filtered_anime_df.sort_values(by='rating',ascending=False)\n",
    "New_filtered_anime_df_sort_rating.head(10)"
   ]
  },
  {
   "cell_type": "code",
   "execution_count": 29,
   "id": "46c1c3de-3722-49d5-b2d6-72ce63e71602",
   "metadata": {},
   "outputs": [
    {
     "data": {
      "text/html": [
       "<div>\n",
       "<style scoped>\n",
       "    .dataframe tbody tr th:only-of-type {\n",
       "        vertical-align: middle;\n",
       "    }\n",
       "\n",
       "    .dataframe tbody tr th {\n",
       "        vertical-align: top;\n",
       "    }\n",
       "\n",
       "    .dataframe thead th {\n",
       "        text-align: right;\n",
       "    }\n",
       "</style>\n",
       "<table border=\"1\" class=\"dataframe\">\n",
       "  <thead>\n",
       "    <tr style=\"text-align: right;\">\n",
       "      <th></th>\n",
       "      <th>anime_id</th>\n",
       "      <th>name</th>\n",
       "      <th>genre</th>\n",
       "      <th>type</th>\n",
       "      <th>episodes</th>\n",
       "      <th>rating</th>\n",
       "      <th>members</th>\n",
       "    </tr>\n",
       "  </thead>\n",
       "  <tbody>\n",
       "    <tr>\n",
       "      <th>40</th>\n",
       "      <td>1535</td>\n",
       "      <td>Death Note</td>\n",
       "      <td>Mystery, Police, Psychological, Supernatural, ...</td>\n",
       "      <td>TV</td>\n",
       "      <td>37</td>\n",
       "      <td>8.71</td>\n",
       "      <td>1013917</td>\n",
       "    </tr>\n",
       "    <tr>\n",
       "      <th>86</th>\n",
       "      <td>16498</td>\n",
       "      <td>Shingeki no Kyojin</td>\n",
       "      <td>Action, Drama, Fantasy, Shounen, Super Power</td>\n",
       "      <td>TV</td>\n",
       "      <td>25</td>\n",
       "      <td>8.54</td>\n",
       "      <td>896229</td>\n",
       "    </tr>\n",
       "    <tr>\n",
       "      <th>804</th>\n",
       "      <td>11757</td>\n",
       "      <td>Sword Art Online</td>\n",
       "      <td>Action, Adventure, Fantasy, Game, Romance</td>\n",
       "      <td>TV</td>\n",
       "      <td>25</td>\n",
       "      <td>7.83</td>\n",
       "      <td>893100</td>\n",
       "    </tr>\n",
       "    <tr>\n",
       "      <th>159</th>\n",
       "      <td>6547</td>\n",
       "      <td>Angel Beats!</td>\n",
       "      <td>Action, Comedy, Drama, School, Supernatural</td>\n",
       "      <td>TV</td>\n",
       "      <td>13</td>\n",
       "      <td>8.39</td>\n",
       "      <td>717796</td>\n",
       "    </tr>\n",
       "    <tr>\n",
       "      <th>19</th>\n",
       "      <td>1575</td>\n",
       "      <td>Code Geass: Hangyaku no Lelouch</td>\n",
       "      <td>Action, Mecha, Military, School, Sci-Fi, Super...</td>\n",
       "      <td>TV</td>\n",
       "      <td>25</td>\n",
       "      <td>8.83</td>\n",
       "      <td>715151</td>\n",
       "    </tr>\n",
       "    <tr>\n",
       "      <th>841</th>\n",
       "      <td>20</td>\n",
       "      <td>Naruto</td>\n",
       "      <td>Action, Comedy, Martial Arts, Shounen, Super P...</td>\n",
       "      <td>TV</td>\n",
       "      <td>220</td>\n",
       "      <td>7.81</td>\n",
       "      <td>683297</td>\n",
       "    </tr>\n",
       "    <tr>\n",
       "      <th>445</th>\n",
       "      <td>10620</td>\n",
       "      <td>Mirai Nikki (TV)</td>\n",
       "      <td>Action, Mystery, Psychological, Shounen, Super...</td>\n",
       "      <td>TV</td>\n",
       "      <td>26</td>\n",
       "      <td>8.07</td>\n",
       "      <td>657190</td>\n",
       "    </tr>\n",
       "    <tr>\n",
       "      <th>131</th>\n",
       "      <td>4224</td>\n",
       "      <td>Toradora!</td>\n",
       "      <td>Comedy, Romance, School, Slice of Life</td>\n",
       "      <td>TV</td>\n",
       "      <td>25</td>\n",
       "      <td>8.45</td>\n",
       "      <td>633817</td>\n",
       "    </tr>\n",
       "    <tr>\n",
       "      <th>582</th>\n",
       "      <td>269</td>\n",
       "      <td>Bleach</td>\n",
       "      <td>Action, Comedy, Shounen, Super Power, Supernat...</td>\n",
       "      <td>TV</td>\n",
       "      <td>366</td>\n",
       "      <td>7.95</td>\n",
       "      <td>624055</td>\n",
       "    </tr>\n",
       "    <tr>\n",
       "      <th>760</th>\n",
       "      <td>226</td>\n",
       "      <td>Elfen Lied</td>\n",
       "      <td>Action, Drama, Horror, Psychological, Romance,...</td>\n",
       "      <td>TV</td>\n",
       "      <td>13</td>\n",
       "      <td>7.85</td>\n",
       "      <td>623511</td>\n",
       "    </tr>\n",
       "  </tbody>\n",
       "</table>\n",
       "</div>"
      ],
      "text/plain": [
       "    anime_id                             name  \\\n",
       "40      1535                       Death Note   \n",
       "86     16498               Shingeki no Kyojin   \n",
       "804    11757                 Sword Art Online   \n",
       "159     6547                     Angel Beats!   \n",
       "19      1575  Code Geass: Hangyaku no Lelouch   \n",
       "841       20                           Naruto   \n",
       "445    10620                 Mirai Nikki (TV)   \n",
       "131     4224                        Toradora!   \n",
       "582      269                           Bleach   \n",
       "760      226                       Elfen Lied   \n",
       "\n",
       "                                                 genre type episodes  rating  \\\n",
       "40   Mystery, Police, Psychological, Supernatural, ...   TV       37    8.71   \n",
       "86        Action, Drama, Fantasy, Shounen, Super Power   TV       25    8.54   \n",
       "804          Action, Adventure, Fantasy, Game, Romance   TV       25    7.83   \n",
       "159        Action, Comedy, Drama, School, Supernatural   TV       13    8.39   \n",
       "19   Action, Mecha, Military, School, Sci-Fi, Super...   TV       25    8.83   \n",
       "841  Action, Comedy, Martial Arts, Shounen, Super P...   TV      220    7.81   \n",
       "445  Action, Mystery, Psychological, Shounen, Super...   TV       26    8.07   \n",
       "131             Comedy, Romance, School, Slice of Life   TV       25    8.45   \n",
       "582  Action, Comedy, Shounen, Super Power, Supernat...   TV      366    7.95   \n",
       "760  Action, Drama, Horror, Psychological, Romance,...   TV       13    7.85   \n",
       "\n",
       "     members  \n",
       "40   1013917  \n",
       "86    896229  \n",
       "804   893100  \n",
       "159   717796  \n",
       "19    715151  \n",
       "841   683297  \n",
       "445   657190  \n",
       "131   633817  \n",
       "582   624055  \n",
       "760   623511  "
      ]
     },
     "execution_count": 29,
     "metadata": {},
     "output_type": "execute_result"
    }
   ],
   "source": [
    "#sorting Datset by members\n",
    "New_filtered_anime_df_sort_members=New_filtered_anime_df.sort_values(by='members',ascending=False)\n",
    "New_filtered_anime_df_sort_members.head(10)"
   ]
  },
  {
   "cell_type": "code",
   "execution_count": 30,
   "id": "9e768355-f1df-4883-8bb2-6e3d27da3b0a",
   "metadata": {},
   "outputs": [
    {
     "name": "stderr",
     "output_type": "stream",
     "text": [
      "C:\\Users\\Harsh\\AppData\\Local\\Temp\\ipykernel_8844\\634915266.py:2: FutureWarning: \n",
      "\n",
      "Passing `palette` without assigning `hue` is deprecated and will be removed in v0.14.0. Assign the `y` variable to `hue` and set `legend=False` for the same effect.\n",
      "\n",
      "  sns.barplot(x='members',y='name',palette='Dark2',data=New_filtered_anime_df_sort_members.head(10),orient='h')\n"
     ]
    },
    {
     "data": {
      "image/png": "[encoded data removed]",
      "text/plain": [
       "<Figure size 640x480 with 1 Axes>"
      ]
     },
     "metadata": {},
     "output_type": "display_data"
    }
   ],
   "source": [
    "#Let's Find Anime Names With Most Members(Most Popular)\n",
    "sns.barplot(x='members',y='name',palette='Dark2',data=New_filtered_anime_df_sort_members.head(10),orient='h')\n",
    "plt.xlabel('Members(in Million)')\n",
    "plt.ylabel(None)\n",
    "plt.title(\"Most Famous Shows on the Basis of Members\")\n",
    "plt.show()"
   ]
  },
  {
   "cell_type": "code",
   "execution_count": 79,
   "id": "0a16f684-2d51-4cbe-ba9e-1675b12d88bb",
   "metadata": {},
   "outputs": [
    {
     "name": "stderr",
     "output_type": "stream",
     "text": [
      "C:\\Users\\Harsh\\AppData\\Local\\Temp\\ipykernel_8844\\2542555479.py:2: SettingWithCopyWarning: \n",
      "A value is trying to be set on a copy of a slice from a DataFrame.\n",
      "Try using .loc[row_indexer,col_indexer] = value instead\n",
      "\n",
      "See the caveats in the documentation: https://pandas.pydata.org/pandas-docs/stable/user_guide/indexing.html#returning-a-view-versus-a-copy\n",
      "  New_filtered_anime_df['episodes'] = pd.to_numeric(New_filtered_anime_df['episodes'], errors='coerce')\n"
     ]
    },
    {
     "data": {
      "image/png": "[encoded data removed]",
      "text/plain": [
       "<Figure size 800x600 with 1 Axes>"
      ]
     },
     "metadata": {},
     "output_type": "display_data"
    }
   ],
   "source": [
    "# Convert 'episodes' column to numeric\n",
    "New_filtered_anime_df['episodes'] = pd.to_numeric(New_filtered_anime_df['episodes'], errors='coerce')\n",
    "\n",
    "# Sort the DataFrame by the 'episodes' column\n",
    "New_filtered_anime_df_sorted = New_filtered_anime_df.sort_values(by='episodes')\n",
    "\n",
    "plt.figure(figsize=(8, 6))\n",
    "sns.scatterplot(x='episodes', y='rating', data=New_filtered_anime_df_sorted.sample(200), color='red')\n",
    "plt.xlabel('Number of Episodes')\n",
    "plt.ylabel('Ratings')\n",
    "plt.title('Scatter Plot: Ratings vs. Episodes')\n",
    "plt.show()"
   ]
  },
  {
   "cell_type": "code",
   "execution_count": 32,
   "id": "e925c91f-2967-4dc7-97d9-d56af99648e0",
   "metadata": {},
   "outputs": [
    {
     "data": {
      "text/plain": [
       "episodes\n",
       "1     5493\n",
       "2     1065\n",
       "12     808\n",
       "13     570\n",
       "26     511\n",
       "Name: count, dtype: int64"
      ]
     },
     "execution_count": 32,
     "metadata": {},
     "output_type": "execute_result"
    }
   ],
   "source": [
    "#Finding The Most Common Number of Episodes\n",
    "Episode_Value_Counts=New_filtered_anime_df.episodes.value_counts().nlargest(5)\n",
    "Episode_Value_Counts"
   ]
  },
  {
   "cell_type": "code",
   "execution_count": 33,
   "id": "6595219e-2dc9-4e97-9984-1b7a56c8ace8",
   "metadata": {},
   "outputs": [
    {
     "data": {
      "image/png": "[encoded data removed]",
      "text/plain": [
       "<Figure size 640x480 with 1 Axes>"
      ]
     },
     "metadata": {},
     "output_type": "display_data"
    }
   ],
   "source": [
    "#Making a Pie Chart For Most Common Number of Episodes\n",
    "colorss = ['#06d6a0','#ffbe0b' , '#ff006e', '#8338ec', '#3a86ff']\n",
    "plt.pie(Episode_Value_Counts, labels=Episode_Value_Counts.index,colors=colorss, autopct='%.0f%%')\n",
    "plt.title(\"Most Common Number of Episodes\")\n",
    "plt.show()"
   ]
  },
  {
   "cell_type": "code",
   "execution_count": 34,
   "id": "509cdd3d-946b-41ee-942c-73e4a5d8eed9",
   "metadata": {},
   "outputs": [
    {
     "data": {
      "text/plain": [
       "type\n",
       "TV         3557\n",
       "OVA        3235\n",
       "Movie      2260\n",
       "Special    1649\n",
       "ONA         556\n",
       "Music       459\n",
       "Name: count, dtype: int64"
      ]
     },
     "execution_count": 34,
     "metadata": {},
     "output_type": "execute_result"
    }
   ],
   "source": [
    "#Finding The Most Common Number of Type Of Shows\n",
    "Type_Value_Counts=New_filtered_anime_df.type.value_counts()\n",
    "Type_Value_Counts"
   ]
  },
  {
   "cell_type": "code",
   "execution_count": 35,
   "id": "a059f457-6283-493e-9033-85e30e77fa7e",
   "metadata": {},
   "outputs": [
    {
     "data": {
      "image/png": "[encoded data removed]",
      "text/plain": [
       "<Figure size 640x480 with 1 Axes>"
      ]
     },
     "metadata": {},
     "output_type": "display_data"
    }
   ],
   "source": [
    "#Making a Pie Chart For Most Coomon Type of Shows\n",
    "colors = ['#66c2a5', '#fc8d62', '#8da0cb', '#e78ac3', '#a6d854', '#ffd92f']\n",
    "plt.pie(Type_Value_Counts, labels=Type_Value_Counts.index,colors=colors, autopct='%.0f%%')\n",
    "plt.title(\"Most Common Type of Shows\")\n",
    "plt.show()"
   ]
  },
  {
   "cell_type": "code",
   "execution_count": 36,
   "id": "b037959d-723b-478e-af16-14275291ea37",
   "metadata": {},
   "outputs": [
    {
     "data": {
      "text/plain": [
       "genre\n",
       "Hentai                   831\n",
       "Comedy                   473\n",
       "Music                    285\n",
       "Kids                     183\n",
       "Comedy, Slice of Life    161\n",
       "Fantasy, Kids            127\n",
       "Name: count, dtype: int64"
      ]
     },
     "execution_count": 36,
     "metadata": {},
     "output_type": "execute_result"
    }
   ],
   "source": [
    "#Finding The Most Common Genre Of Shows\n",
    "Genre_Value_Counts=New_filtered_anime_df.genre.value_counts().nlargest(6)\n",
    "Genre_Value_Counts"
   ]
  },
  {
   "cell_type": "code",
   "execution_count": 37,
   "id": "34870da2-cbf4-4c5d-a791-fa425148593a",
   "metadata": {},
   "outputs": [
    {
     "data": {
      "image/png": "[encoded data removed]",
      "text/plain": [
       "<Figure size 640x480 with 1 Axes>"
      ]
     },
     "metadata": {},
     "output_type": "display_data"
    }
   ],
   "source": [
    "#Making a Pie Chart For Most Famous Genres\n",
    "colorsss = ['#ff9999', '#66b3ff', '#99ff99', '#ffcc99', '#c2c2f0', '#ffb3e6', '#ff6666', '#3cb371', '#ffd700']\n",
    "plt.pie(Genre_Value_Counts, labels=Genre_Value_Counts.index,colors=colorsss, autopct='%.0f%%')\n",
    "plt.title(\"Most Famous Genre of Shows\")\n",
    "plt.show()"
   ]
  },
  {
   "cell_type": "code",
   "execution_count": 38,
   "id": "0083a329-1a1e-41f4-8ebe-e940636daae2",
   "metadata": {},
   "outputs": [
    {
     "data": {
      "text/html": [
       "<div>\n",
       "<style scoped>\n",
       "    .dataframe tbody tr th:only-of-type {\n",
       "        vertical-align: middle;\n",
       "    }\n",
       "\n",
       "    .dataframe tbody tr th {\n",
       "        vertical-align: top;\n",
       "    }\n",
       "\n",
       "    .dataframe thead th {\n",
       "        text-align: right;\n",
       "    }\n",
       "</style>\n",
       "<table border=\"1\" class=\"dataframe\">\n",
       "  <thead>\n",
       "    <tr style=\"text-align: right;\">\n",
       "      <th></th>\n",
       "      <th>genre</th>\n",
       "      <th>rating</th>\n",
       "    </tr>\n",
       "  </thead>\n",
       "  <tbody>\n",
       "    <tr>\n",
       "      <th>2449</th>\n",
       "      <td>Drama, Fantasy, Romance, Slice of Life, Supern...</td>\n",
       "      <td>9.06</td>\n",
       "    </tr>\n",
       "    <tr>\n",
       "      <th>2666</th>\n",
       "      <td>Drama, School, Shounen</td>\n",
       "      <td>9.05</td>\n",
       "    </tr>\n",
       "    <tr>\n",
       "      <th>763</th>\n",
       "      <td>Action, Drama, Mecha, Military, Sci-Fi, Super ...</td>\n",
       "      <td>8.98</td>\n",
       "    </tr>\n",
       "    <tr>\n",
       "      <th>1478</th>\n",
       "      <td>Adventure, Drama, Supernatural</td>\n",
       "      <td>8.93</td>\n",
       "    </tr>\n",
       "    <tr>\n",
       "      <th>2586</th>\n",
       "      <td>Drama, Music, Romance, School, Shounen</td>\n",
       "      <td>8.92</td>\n",
       "    </tr>\n",
       "    <tr>\n",
       "      <th>1035</th>\n",
       "      <td>Action, Mecha, Military, School, Sci-Fi, Super...</td>\n",
       "      <td>8.83</td>\n",
       "    </tr>\n",
       "    <tr>\n",
       "      <th>726</th>\n",
       "      <td>Action, Drama, Historical, Martial Arts, Roman...</td>\n",
       "      <td>8.83</td>\n",
       "    </tr>\n",
       "    <tr>\n",
       "      <th>2166</th>\n",
       "      <td>Comedy, Mystery, Romance, School, Sci-Fi, Supe...</td>\n",
       "      <td>8.81</td>\n",
       "    </tr>\n",
       "    <tr>\n",
       "      <th>2167</th>\n",
       "      <td>Comedy, Mystery, Romance, Supernatural, Vampire</td>\n",
       "      <td>8.80</td>\n",
       "    </tr>\n",
       "    <tr>\n",
       "      <th>1784</th>\n",
       "      <td>Comedy, Drama, School, Shounen, Slice of Life</td>\n",
       "      <td>8.77</td>\n",
       "    </tr>\n",
       "  </tbody>\n",
       "</table>\n",
       "</div>"
      ],
      "text/plain": [
       "                                                  genre  rating\n",
       "2449  Drama, Fantasy, Romance, Slice of Life, Supern...    9.06\n",
       "2666                             Drama, School, Shounen    9.05\n",
       "763   Action, Drama, Mecha, Military, Sci-Fi, Super ...    8.98\n",
       "1478                     Adventure, Drama, Supernatural    8.93\n",
       "2586             Drama, Music, Romance, School, Shounen    8.92\n",
       "1035  Action, Mecha, Military, School, Sci-Fi, Super...    8.83\n",
       "726   Action, Drama, Historical, Martial Arts, Roman...    8.83\n",
       "2166  Comedy, Mystery, Romance, School, Sci-Fi, Supe...    8.81\n",
       "2167    Comedy, Mystery, Romance, Supernatural, Vampire    8.80\n",
       "1784      Comedy, Drama, School, Shounen, Slice of Life    8.77"
      ]
     },
     "execution_count": 38,
     "metadata": {},
     "output_type": "execute_result"
    }
   ],
   "source": [
    "#Finding Average Rating Per Genre\n",
    "average_ratings_Genre = New_filtered_anime_df.groupby('genre')['rating'].mean().reset_index()\n",
    "average_ratings_Genre_sorting=average_ratings_Genre.sort_values(by='rating',ascending=False)\n",
    "average_ratings_Genre_sorting.head(10)"
   ]
  },
  {
   "cell_type": "code",
   "execution_count": 39,
   "id": "8a127f70-4a7f-4558-9433-08deeb37fe74",
   "metadata": {},
   "outputs": [
    {
     "data": {
      "text/html": [
       "<div>\n",
       "<style scoped>\n",
       "    .dataframe tbody tr th:only-of-type {\n",
       "        vertical-align: middle;\n",
       "    }\n",
       "\n",
       "    .dataframe tbody tr th {\n",
       "        vertical-align: top;\n",
       "    }\n",
       "\n",
       "    .dataframe thead th {\n",
       "        text-align: right;\n",
       "    }\n",
       "</style>\n",
       "<table border=\"1\" class=\"dataframe\">\n",
       "  <thead>\n",
       "    <tr style=\"text-align: right;\">\n",
       "      <th></th>\n",
       "      <th>type</th>\n",
       "      <th>rating</th>\n",
       "    </tr>\n",
       "  </thead>\n",
       "  <tbody>\n",
       "    <tr>\n",
       "      <th>5</th>\n",
       "      <td>TV</td>\n",
       "      <td>6.936849</td>\n",
       "    </tr>\n",
       "    <tr>\n",
       "      <th>4</th>\n",
       "      <td>Special</td>\n",
       "      <td>6.567004</td>\n",
       "    </tr>\n",
       "    <tr>\n",
       "      <th>0</th>\n",
       "      <td>Movie</td>\n",
       "      <td>6.412335</td>\n",
       "    </tr>\n",
       "    <tr>\n",
       "      <th>3</th>\n",
       "      <td>OVA</td>\n",
       "      <td>6.393009</td>\n",
       "    </tr>\n",
       "    <tr>\n",
       "      <th>2</th>\n",
       "      <td>ONA</td>\n",
       "      <td>5.847431</td>\n",
       "    </tr>\n",
       "    <tr>\n",
       "      <th>1</th>\n",
       "      <td>Music</td>\n",
       "      <td>5.706427</td>\n",
       "    </tr>\n",
       "  </tbody>\n",
       "</table>\n",
       "</div>"
      ],
      "text/plain": [
       "      type    rating\n",
       "5       TV  6.936849\n",
       "4  Special  6.567004\n",
       "0    Movie  6.412335\n",
       "3      OVA  6.393009\n",
       "2      ONA  5.847431\n",
       "1    Music  5.706427"
      ]
     },
     "execution_count": 39,
     "metadata": {},
     "output_type": "execute_result"
    }
   ],
   "source": [
    "#Finding Average Rating Per Shows\n",
    "average_ratings_Type = New_filtered_anime_df.groupby('type')['rating'].mean().reset_index()\n",
    "average_ratings_Type_sorting=average_ratings_Type.sort_values(by='rating',ascending=False)\n",
    "average_ratings_Type_sorting.head(10)"
   ]
  },
  {
   "cell_type": "code",
   "execution_count": 40,
   "id": "9700a7b3-08aa-4156-9715-2f25b8695d6c",
   "metadata": {},
   "outputs": [
    {
     "name": "stderr",
     "output_type": "stream",
     "text": [
      "C:\\Users\\Harsh\\AppData\\Local\\Temp\\ipykernel_8844\\1673466379.py:2: FutureWarning: \n",
      "\n",
      "Passing `palette` without assigning `hue` is deprecated and will be removed in v0.14.0. Assign the `x` variable to `hue` and set `legend=False` for the same effect.\n",
      "\n",
      "  sns.barplot(x='type',y='rating',palette='CMRmap',data=average_ratings_Type_sorting.head(10))\n"
     ]
    },
    {
     "data": {
      "image/png": "[encoded data removed]",
      "text/plain": [
       "<Figure size 640x480 with 1 Axes>"
      ]
     },
     "metadata": {},
     "output_type": "display_data"
    }
   ],
   "source": [
    "#Making a Bar Plot For Average Ratings Per Shows\n",
    "sns.barplot(x='type',y='rating',palette='CMRmap',data=average_ratings_Type_sorting.head(10))\n",
    "plt.xlabel('Type of Show')\n",
    "plt.ylabel('Average Rating')\n",
    "plt.title(\"Average Rating on Type of Shows\")\n",
    "plt.show()"
   ]
  },
  {
   "cell_type": "code",
   "execution_count": 45,
   "id": "8067c66a-64b9-4c3d-9658-07b9d1163531",
   "metadata": {},
   "outputs": [
    {
     "name": "stderr",
     "output_type": "stream",
     "text": [
      "C:\\Users\\Harsh\\AppData\\Local\\Temp\\ipykernel_8844\\3612349995.py:8: SettingWithCopyWarning: \n",
      "A value is trying to be set on a copy of a slice from a DataFrame.\n",
      "Try using .loc[row_indexer,col_indexer] = value instead\n",
      "\n",
      "See the caveats in the documentation: https://pandas.pydata.org/pandas-docs/stable/user_guide/indexing.html#returning-a-view-versus-a-copy\n",
      "  New_filtered_anime_df['category'] = pd.cut(New_filtered_anime_df['rating'], bins=bin_edges, labels=bin_labels, include_lowest=True)\n"
     ]
    },
    {
     "data": {
      "text/html": [
       "<div>\n",
       "<style scoped>\n",
       "    .dataframe tbody tr th:only-of-type {\n",
       "        vertical-align: middle;\n",
       "    }\n",
       "\n",
       "    .dataframe tbody tr th {\n",
       "        vertical-align: top;\n",
       "    }\n",
       "\n",
       "    .dataframe thead th {\n",
       "        text-align: right;\n",
       "    }\n",
       "</style>\n",
       "<table border=\"1\" class=\"dataframe\">\n",
       "  <thead>\n",
       "    <tr style=\"text-align: right;\">\n",
       "      <th></th>\n",
       "      <th>anime_id</th>\n",
       "      <th>name</th>\n",
       "      <th>genre</th>\n",
       "      <th>type</th>\n",
       "      <th>episodes</th>\n",
       "      <th>rating</th>\n",
       "      <th>members</th>\n",
       "      <th>category</th>\n",
       "    </tr>\n",
       "  </thead>\n",
       "  <tbody>\n",
       "    <tr>\n",
       "      <th>10</th>\n",
       "      <td>4181</td>\n",
       "      <td>Clannad: After Story</td>\n",
       "      <td>Drama, Fantasy, Romance, Slice of Life, Supern...</td>\n",
       "      <td>TV</td>\n",
       "      <td>24</td>\n",
       "      <td>9.06</td>\n",
       "      <td>456749</td>\n",
       "      <td>Outstanding</td>\n",
       "    </tr>\n",
       "    <tr>\n",
       "      <th>11</th>\n",
       "      <td>28851</td>\n",
       "      <td>Koe no Katachi</td>\n",
       "      <td>Drama, School, Shounen</td>\n",
       "      <td>Movie</td>\n",
       "      <td>1</td>\n",
       "      <td>9.05</td>\n",
       "      <td>102733</td>\n",
       "      <td>Outstanding</td>\n",
       "    </tr>\n",
       "    <tr>\n",
       "      <th>12</th>\n",
       "      <td>918</td>\n",
       "      <td>Gintama</td>\n",
       "      <td>Action, Comedy, Historical, Parody, Samurai, S...</td>\n",
       "      <td>TV</td>\n",
       "      <td>201</td>\n",
       "      <td>9.04</td>\n",
       "      <td>336376</td>\n",
       "      <td>Outstanding</td>\n",
       "    </tr>\n",
       "    <tr>\n",
       "      <th>13</th>\n",
       "      <td>2904</td>\n",
       "      <td>Code Geass: Hangyaku no Lelouch R2</td>\n",
       "      <td>Action, Drama, Mecha, Military, Sci-Fi, Super ...</td>\n",
       "      <td>TV</td>\n",
       "      <td>25</td>\n",
       "      <td>8.98</td>\n",
       "      <td>572888</td>\n",
       "      <td>Outstanding</td>\n",
       "    </tr>\n",
       "    <tr>\n",
       "      <th>14</th>\n",
       "      <td>28891</td>\n",
       "      <td>Haikyuu!! Second Season</td>\n",
       "      <td>Comedy, Drama, School, Shounen, Sports</td>\n",
       "      <td>TV</td>\n",
       "      <td>25</td>\n",
       "      <td>8.93</td>\n",
       "      <td>179342</td>\n",
       "      <td>Outstanding</td>\n",
       "    </tr>\n",
       "    <tr>\n",
       "      <th>...</th>\n",
       "      <td>...</td>\n",
       "      <td>...</td>\n",
       "      <td>...</td>\n",
       "      <td>...</td>\n",
       "      <td>...</td>\n",
       "      <td>...</td>\n",
       "      <td>...</td>\n",
       "      <td>...</td>\n",
       "    </tr>\n",
       "    <tr>\n",
       "      <th>12289</th>\n",
       "      <td>9316</td>\n",
       "      <td>Toushindai My Lover: Minami tai Mecha-Minami</td>\n",
       "      <td>Hentai</td>\n",
       "      <td>OVA</td>\n",
       "      <td>1</td>\n",
       "      <td>4.15</td>\n",
       "      <td>211</td>\n",
       "      <td>Average</td>\n",
       "    </tr>\n",
       "    <tr>\n",
       "      <th>12290</th>\n",
       "      <td>5543</td>\n",
       "      <td>Under World</td>\n",
       "      <td>Hentai</td>\n",
       "      <td>OVA</td>\n",
       "      <td>1</td>\n",
       "      <td>4.28</td>\n",
       "      <td>183</td>\n",
       "      <td>Average</td>\n",
       "    </tr>\n",
       "    <tr>\n",
       "      <th>12291</th>\n",
       "      <td>5621</td>\n",
       "      <td>Violence Gekiga David no Hoshi</td>\n",
       "      <td>Hentai</td>\n",
       "      <td>OVA</td>\n",
       "      <td>4</td>\n",
       "      <td>4.88</td>\n",
       "      <td>219</td>\n",
       "      <td>Average</td>\n",
       "    </tr>\n",
       "    <tr>\n",
       "      <th>12292</th>\n",
       "      <td>6133</td>\n",
       "      <td>Violence Gekiga Shin David no Hoshi: Inma Dens...</td>\n",
       "      <td>Hentai</td>\n",
       "      <td>OVA</td>\n",
       "      <td>1</td>\n",
       "      <td>4.98</td>\n",
       "      <td>175</td>\n",
       "      <td>Average</td>\n",
       "    </tr>\n",
       "    <tr>\n",
       "      <th>12293</th>\n",
       "      <td>26081</td>\n",
       "      <td>Yasuji no Pornorama: Yacchimae!!</td>\n",
       "      <td>Hentai</td>\n",
       "      <td>Movie</td>\n",
       "      <td>1</td>\n",
       "      <td>5.46</td>\n",
       "      <td>142</td>\n",
       "      <td>Average</td>\n",
       "    </tr>\n",
       "  </tbody>\n",
       "</table>\n",
       "<p>11716 rows × 8 columns</p>\n",
       "</div>"
      ],
      "text/plain": [
       "      anime_id                                               name  \\\n",
       "10        4181                               Clannad: After Story   \n",
       "11       28851                                     Koe no Katachi   \n",
       "12         918                                            Gintama   \n",
       "13        2904                 Code Geass: Hangyaku no Lelouch R2   \n",
       "14       28891                            Haikyuu!! Second Season   \n",
       "...        ...                                                ...   \n",
       "12289     9316       Toushindai My Lover: Minami tai Mecha-Minami   \n",
       "12290     5543                                        Under World   \n",
       "12291     5621                     Violence Gekiga David no Hoshi   \n",
       "12292     6133  Violence Gekiga Shin David no Hoshi: Inma Dens...   \n",
       "12293    26081                   Yasuji no Pornorama: Yacchimae!!   \n",
       "\n",
       "                                                   genre   type  episodes  \\\n",
       "10     Drama, Fantasy, Romance, Slice of Life, Supern...     TV        24   \n",
       "11                                Drama, School, Shounen  Movie         1   \n",
       "12     Action, Comedy, Historical, Parody, Samurai, S...     TV       201   \n",
       "13     Action, Drama, Mecha, Military, Sci-Fi, Super ...     TV        25   \n",
       "14                Comedy, Drama, School, Shounen, Sports     TV        25   \n",
       "...                                                  ...    ...       ...   \n",
       "12289                                             Hentai    OVA         1   \n",
       "12290                                             Hentai    OVA         1   \n",
       "12291                                             Hentai    OVA         4   \n",
       "12292                                             Hentai    OVA         1   \n",
       "12293                                             Hentai  Movie         1   \n",
       "\n",
       "       rating  members     category  \n",
       "10       9.06   456749  Outstanding  \n",
       "11       9.05   102733  Outstanding  \n",
       "12       9.04   336376  Outstanding  \n",
       "13       8.98   572888  Outstanding  \n",
       "14       8.93   179342  Outstanding  \n",
       "...       ...      ...          ...  \n",
       "12289    4.15      211      Average  \n",
       "12290    4.28      183      Average  \n",
       "12291    4.88      219      Average  \n",
       "12292    4.98      175      Average  \n",
       "12293    5.46      142      Average  \n",
       "\n",
       "[11716 rows x 8 columns]"
      ]
     },
     "execution_count": 45,
     "metadata": {},
     "output_type": "execute_result"
    }
   ],
   "source": [
    "#Making Categories For Ratings\n",
    "\n",
    "# Define the bin edges and labels for the categories\n",
    "bin_edges = [0, 4, 7, 8, 10]  \n",
    "bin_labels = ['Bad', 'Average', 'Good', 'Outstanding']  \n",
    "\n",
    "New_filtered_anime_df['category'] = pd.cut(New_filtered_anime_df['rating'], bins=bin_edges, labels=bin_labels, include_lowest=True)\n",
    "\n",
    "New_filtered_anime_df\n"
   ]
  },
  {
   "cell_type": "code",
   "execution_count": 46,
   "id": "dc2b1317-29f1-4762-a4fa-ed2f7f5c5b75",
   "metadata": {},
   "outputs": [
    {
     "data": {
      "text/plain": [
       "category\n",
       "Average        7925\n",
       "Good           3200\n",
       "Outstanding     563\n",
       "Bad              28\n",
       "Name: count, dtype: int64"
      ]
     },
     "execution_count": 46,
     "metadata": {},
     "output_type": "execute_result"
    }
   ],
   "source": [
    "#Display the Newly Formed Category Column\n",
    "New_filtered_anime_df.category.value_counts()"
   ]
  },
  {
   "cell_type": "code",
   "execution_count": 80,
   "id": "b05806fe-c5a8-4359-9399-37266528a3de",
   "metadata": {},
   "outputs": [
    {
     "name": "stderr",
     "output_type": "stream",
     "text": [
      "C:\\Users\\Harsh\\AppData\\Local\\Temp\\ipykernel_8844\\2062988212.py:2: FutureWarning: \n",
      "\n",
      "Passing `palette` without assigning `hue` is deprecated and will be removed in v0.14.0. Assign the `y` variable to `hue` and set `legend=False` for the same effect.\n",
      "\n",
      "  sns.countplot(New_filtered_anime_df.category, palette=\"viridis\",order=New_filtered_anime_df.category.value_counts().index)\n"
     ]
    },
    {
     "data": {
      "image/png": "[encoded data removed]",
      "text/plain": [
       "<Figure size 640x480 with 1 Axes>"
      ]
     },
     "metadata": {},
     "output_type": "display_data"
    }
   ],
   "source": [
    "#Making a Count Plot The Newly Displayed Category columns\n",
    "sns.countplot(New_filtered_anime_df.category, palette=\"viridis\",order=New_filtered_anime_df.category.value_counts().index)\n",
    "plt.xlabel(\"Count\")\n",
    "plt.title(\"Shows in Different Categories\")\n",
    "plt.ylabel(None)\n",
    "custom_legend = [\n",
    "    plt.Line2D([0], [0], marker='o', color='w', markerfacecolor='#1F968BFF', markersize=12, label='Outstanding: 8.0-10.0'),\n",
    "    plt.Line2D([0], [0], marker='o', color='w', markerfacecolor='#39568CFF', markersize=12, label='Good: 7.0-8.0'),\n",
    "    plt.Line2D([0], [0], marker='o', color='w', markerfacecolor='#440154FF', markersize=12, label='Average: 4.0-7.0'),\n",
    "    plt.Line2D([0], [0], marker='o', color='w', markerfacecolor='#73D055FF', markersize=12, label='Bad: 0.0-4.0')\n",
    "]\n",
    "plt.legend(handles=custom_legend, title='Ratings', loc='lower right')\n",
    "plt.show()"
   ]
  },
  {
   "cell_type": "markdown",
   "id": "49e84657-66f1-4c8d-a400-7930ec442ee8",
   "metadata": {},
   "source": [
    "### We Observe That Most Of The Anime Fall in The Average category That is. Between 4.0 to 7.0 Ratings"
   ]
  }
 ],
 "metadata": {
  "kernelspec": {
   "display_name": "Python 3 (ipykernel)",
   "language": "python",
   "name": "python3"
  },
  "language_info": {
   "codemirror_mode": {
    "name": "ipython",
    "version": 3
   },
   "file_extension": ".py",
   "mimetype": "text/x-python",
   "name": "python",
   "nbconvert_exporter": "python",
   "pygments_lexer": "ipython3",
   "version": "3.10.13"
  }
 },
 "nbformat": 4,
 "nbformat_minor": 5
}
